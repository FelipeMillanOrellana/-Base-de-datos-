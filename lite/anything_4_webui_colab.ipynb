{
  "cells": [
    {
      "cell_type": "markdown",
      "metadata": {
        "id": "view-in-github",
        "colab_type": "text"
      },
      "source": [
        "<a href=\"https://colab.research.google.com/github/FelipeMillanOrellana/-Base-de-datos-/blob/main/lite/anything_4_webui_colab.ipynb\" target=\"_parent\"><img src=\"https://colab.research.google.com/assets/colab-badge.svg\" alt=\"Open In Colab\"/></a>"
      ]
    },
    {
      "cell_type": "code",
      "execution_count": null,
      "metadata": {
        "id": "SaAJk33ppFw1"
      },
      "outputs": [],
      "source": [
        "# Cambiar al directorio raíz de Colab\n",
        "%cd /content\n",
        "\n",
        "# Minimizar logs de TensorFlow\n",
        "%env TF_CPP_MIN_LOG_LEVEL=1\n",
        "\n",
        "# Actualizar pip a versión específica\n",
        "!pip install -q pip==23.2.1\n",
        "\n",
        "# Actualizar paquetes del sistema\n",
        "!apt -y update -qq\n",
        "!apt -y install -qq aria2 libcairo2-dev pkg-config python3-dev\n",
        "\n",
        "# Descargar libtcmalloc para mejorar el rendimiento\n",
        "!wget -q https://github.com/camenduru/gperftools/releases/download/v1.0/libtcmalloc_minimal.so.4 -O /content/libtcmalloc_minimal.so.4\n",
        "%env LD_PRELOAD=/content/libtcmalloc_minimal.so.4\n",
        "\n",
        "# Instalar PyTorch con soporte CUDA 11.8\n",
        "!pip install -q torch==2.0.1+cu118 torchvision==0.15.2+cu118 \\\n",
        "torchaudio==2.0.2+cu118 torchtext==0.15.2 torchdata==0.6.1 \\\n",
        "--extra-index-url https://download.pytorch.org/whl/cu118 --upgrade\n",
        "\n",
        "# Instalar paquetes adicionales\n",
        "!pip install -q xformers==0.0.20 triton==2.0.0 gradio_client==0.2.7 --upgrade\n",
        "\n",
        "# Clonar repositorio principal\n",
        "!git clone -b v2.4 https://github.com/camenduru/stable-diffusion-webui\n",
        "\n",
        "# Clonar embeddings y modelos adicionales\n",
        "!git clone https://huggingface.co/embed/negative /content/stable-diffusion-webui/embeddings/negative\n",
        "!git clone https://huggingface.co/embed/lora /content/stable-diffusion-webui/models/Lora/positive\n",
        "\n",
        "# Crear directorio si no existe y descargar modelo de upscaling\n",
        "!mkdir -p /content/stable-diffusion-webui/models/ESRGAN\n",
        "!aria2c --console-log-level=error -c -x 16 -s 16 -k 1M \\\n",
        "https://huggingface.co/embed/upscale/resolve/main/4x-UltraSharp.pth \\\n",
        "-d /content/stable-diffusion-webui/models/ESRGAN -o 4x-UltraSharp.pth\n",
        "\n",
        "# Descargar script adicional\n",
        "!wget -q https://raw.githubusercontent.com/camenduru/stable-diffusion-webui-scripts/main/run_n_times.py \\\n",
        "-O /content/stable-diffusion-webui/scripts/run_n_times.py\n",
        "\n",
        "# Clonar extensiones\n",
        "%cd /content/stable-diffusion-webui/extensions\n",
        "!git clone -b v2.4 https://github.com/camenduru/deforum-for-automatic1111-webui\n",
        "!git clone -b v2.4 https://github.com/camenduru/stable-diffusion-webui-images-browser\n",
        "!git clone -b v2.4 https://github.com/camenduru/stable-diffusion-webui-huggingface\n",
        "!git clone -b v2.4 https://github.com/camenduru/sd-civitai-browser\n",
        "!git clone -b v2.4 https://github.com/camenduru/sd-webui-additional-networks\n",
        "!git clone -b v2.4 https://github.com/camenduru/sd-webui-tunnels\n",
        "!git clone -b v2.4 https://github.com/camenduru/batchlinks-webui\n",
        "!git clone -b v2.4 https://github.com/camenduru/stable-diffusion-webui-catppuccin\n",
        "!git clone -b v2.4 https://github.com/camenduru/stable-diffusion-webui-rembg\n",
        "!git clone -b v2.4 https://github.com/camenduru/stable-diffusion-webui-two-shot\n",
        "!git clone -b v2.4 https://github.com/camenduru/sd-webui-aspect-ratio-helper\n",
        "!git clone -b v2.4 https://github.com/camenduru/asymmetric-tiling-sd-webui\n",
        "\n",
        "# Volver al directorio principal del proyecto\n",
        "%cd /content/stable-diffusion-webui\n",
        "\n",
        "# Reset del repositorio a estado limpio\n",
        "!git reset --hard\n",
        "!git -C repositories/stable-diffusion-stability-ai reset --hard\n",
        "\n",
        "# Descargar modelo y VAE\n",
        "!mkdir -p /content/stable-diffusion-webui/models/Stable-diffusion\n",
        "!aria2c --console-log-level=error -c -x 16 -s 16 -k 1M \\\n",
        "https://huggingface.co/ckpt/anything-v4.0/resolve/main/anything-v4.5-pruned.ckpt \\\n",
        "-d /content/stable-diffusion-webui/models/Stable-diffusion -o anything-v4.5-pruned.ckpt\n",
        "\n",
        "!aria2c --console-log-level=error -c -x 16 -s 16 -k 1M \\\n",
        "https://huggingface.co/ckpt/anything-v4.0/resolve/main/anything-v4.0.vae.pt \\\n",
        "-d /content/stable-diffusion-webui/models/Stable-diffusion -o anything-v4.5-pruned.vae.pt\n",
        "\n",
        "# Parches para modificar comportamiento\n",
        "!sed -i \"/from modules import launch_utils/a\\import os\" launch.py\n",
        "!sed -i \"/prepare_environment()/a\\        os.system(\\\"sed -i -e 's/dict()))/dict())).cuda()/g' /content/stable-diffusion-webui/repositories/stable-diffusion-stability-ai/ldm/util.py\\\")\" launch.py\n",
        "!sed -i 's/\\[\"sd_model_checkpoint\"\\]/\\[\"sd_model_checkpoint\",\"sd_vae\",\"CLIP_stop_at_last_layers\"\\]/g' modules/shared.py\n",
        "\n",
        "# Ejecutar la aplicación\n",
        "!python launch.py --listen --xformers --enable-insecure-extension-access --theme dark --gradio-queue --multiple\n"
      ]
    }
  ],
  "metadata": {
    "accelerator": "GPU",
    "colab": {
      "private_outputs": true,
      "provenance": [],
      "include_colab_link": true
    },
    "gpuClass": "standard",
    "kernelspec": {
      "display_name": "Python 3",
      "name": "python3"
    },
    "language_info": {
      "name": "python"
    }
  },
  "nbformat": 4,
  "nbformat_minor": 0
}